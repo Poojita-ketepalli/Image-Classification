{
 "cells": [
  {
   "cell_type": "markdown",
   "metadata": {},
   "source": [
    "NOTE\n",
    "---\n",
    "The data is Images\n",
    "\n",
    "1.We can download manually images from the google\n",
    "\n",
    "2.We can find the dataset from kaggle\n",
    "\n",
    "3.We can build a image web crawler\n",
    "\n",
    "4.Use python libraries to scrape the images using bing(bing is a search engine like google)"
   ]
  },
  {
   "cell_type": "markdown",
   "metadata": {},
   "source": [
    "# Preprocessing\n",
    "1.Resizing\n",
    "\n",
    "2.Flattening"
   ]
  },
  {
   "cell_type": "code",
   "execution_count": 2,
   "metadata": {},
   "outputs": [],
   "source": [
    "import os # to go through different folders\n",
    "import matplotlib.pyplot as plt # used for displaying the image\n",
    "import numpy as np #used for numerical computing\n",
    "from skimage.io import imread #to read an image\n",
    "from skimage.transform import resize # we need to convert all the images into same size"
   ]
  },
  {
   "cell_type": "markdown",
   "metadata": {},
   "source": [
    "## Flatten method\n",
    "To converting a matrix to vector or how to converting a 2D array to 1D we use flatten method\n",
    "\n",
    "Images are in the form of matrix.They should be flattened. They can be flattened by using flatten() function"
   ]
  },
  {
   "cell_type": "code",
   "execution_count": 3,
   "metadata": {},
   "outputs": [
    {
     "data": {
      "text/plain": [
       "array([0.31648802, 0.51665359, 0.63822222, ..., 0.20864488, 0.13953813,\n",
       "       0.08281481])"
      ]
     },
     "execution_count": 3,
     "metadata": {},
     "output_type": "execute_result"
    }
   ],
   "source": [
    "target = []\n",
    "images = []\n",
    "flat_data = []\n",
    "\n",
    "datadir = 'E:\\Image Classification\\Data'\n",
    "categories = ['cats','dogs','panda']\n",
    "\n",
    "for category in categories:\n",
    "  class_num = categories.index(category) #Label encoding the values\n",
    "  path = os.path.join(datadir,category) #create path to use all the images\n",
    "  for img in os.listdir(path):\n",
    "    img_array=imread(os.path.join(path,img))\n",
    "    img_resize = resize(img_array,(150,150,3)) #normalizes the value 0 to 1\n",
    "    flat_data.append(img_resize.flatten())\n",
    "    images.append(img_resize)\n",
    "    target.append(class_num)\n",
    "\n",
    "flat_data = np.array(flat_data)\n",
    "target = np.array(target)\n",
    "images = np.array(images)\n",
    "flat_data[0]"
   ]
  },
  {
   "cell_type": "code",
   "execution_count": 4,
   "metadata": {},
   "outputs": [
    {
     "data": {
      "text/plain": [
       "array([0, 0, 0, ..., 2, 2, 2])"
      ]
     },
     "execution_count": 4,
     "metadata": {},
     "output_type": "execute_result"
    }
   ],
   "source": [
    "target"
   ]
  },
  {
   "cell_type": "code",
   "execution_count": 5,
   "metadata": {},
   "outputs": [
    {
     "data": {
      "text/plain": [
       "(array([0, 1, 2]), array([1000, 1000, 1000], dtype=int64))"
      ]
     },
     "execution_count": 5,
     "metadata": {},
     "output_type": "execute_result"
    }
   ],
   "source": [
    "np.unique(target,return_counts=True)"
   ]
  },
  {
   "cell_type": "code",
   "execution_count": 6,
   "metadata": {},
   "outputs": [
    {
     "data": {
      "text/plain": [
       "<BarContainer object of 3 artists>"
      ]
     },
     "execution_count": 6,
     "metadata": {},
     "output_type": "execute_result"
    },
    {
     "data": {
      "image/png": "[encoded data removed]",
      "text/plain": [
       "<Figure size 432x288 with 1 Axes>"
      ]
     },
     "metadata": {
      "needs_background": "light"
     },
     "output_type": "display_data"
    }
   ],
   "source": [
    "unique,count=np.unique(target,return_counts=True)\n",
    "plt.bar(categories,count)"
   ]
  },
  {
   "cell_type": "code",
   "execution_count": 7,
   "metadata": {},
   "outputs": [],
   "source": [
    "#splitting data for train and test\n",
    "from sklearn.model_selection import train_test_split\n",
    "x_train,x_test,y_train,y_test = train_test_split(flat_data,target,test_size=0.3,random_state=109)"
   ]
  },
  {
   "cell_type": "markdown",
   "metadata": {},
   "source": [
    "## SVM Model"
   ]
  },
  {
   "cell_type": "code",
   "execution_count": 12,
   "metadata": {},
   "outputs": [
    {
     "name": "stdout",
     "output_type": "stream",
     "text": [
      "Accuracy: 0.6411111111111111\n",
      "Cross validation: [0.65714286 0.67142857 0.67142857 0.63333333 0.62142857]\n"
     ]
    }
   ],
   "source": [
    "from sklearn import svm\n",
    "from sklearn.metrics import accuracy_score,confusion_matrix\n",
    "from sklearn.model_selection import cross_val_score\n",
    "\n",
    "clf = svm.SVC(C=4,kernel='rbf',gamma='scale')\n",
    "clf.fit(x_train,y_train)\n",
    "y_pred = clf.predict(x_test)\n",
    "print(\"Accuracy:\",accuracy_score(y_pred,y_test))\n",
    "print(\"Cross validation:\",cross_val_score(clf,x_train,y_train,cv=5))"
   ]
  },
  {
   "cell_type": "code",
   "execution_count": 13,
   "metadata": {},
   "outputs": [],
   "source": [
    "#save tha model using pickle library\n",
    "import pickle\n",
    "pickle.dump(clf,open('img_model_svm.p','wb'))\n",
    "model = pickle.load(open('img_model_svm.p','rb'))"
   ]
  },
  {
   "cell_type": "code",
   "execution_count": 14,
   "metadata": {},
   "outputs": [
    {
     "name": "stdout",
     "output_type": "stream",
     "text": [
      "enter the url:http://cdn.akc.org/content/article-body-image/samoyed_puppy_dog_pictures.jpg\n",
      "predicted output:dogs\n"
     ]
    }
   ],
   "source": [
    "#testing for a new image\n",
    "flat_data = []\n",
    "url = input(\"enter the url:\")\n",
    "img = imread(url)\n",
    "img_resize = resize(img,(150,150,3))\n",
    "flat_data.append(img_resize.flatten())\n",
    "flat_data = np.array(flat_data)\n",
    "\n",
    "y_out = model.predict(flat_data)\n",
    "y_out = categories[y_out[0]]\n",
    "print(f\"predicted output:{y_out}\")"
   ]
  },
  {
   "cell_type": "markdown",
   "metadata": {},
   "source": [
    "## Random Forest"
   ]
  },
  {
   "cell_type": "code",
   "execution_count": 15,
   "metadata": {},
   "outputs": [
    {
     "name": "stdout",
     "output_type": "stream",
     "text": [
      "Accuracy: 0.6455555555555555\n",
      "Cross validation: [0.61666667 0.66190476 0.62142857 0.64047619 0.6452381 ]\n"
     ]
    }
   ],
   "source": [
    "# The Higher number of trees(n_estimators) give you better performance but makes your code slower.\n",
    "# The max_depth of a tree in Random Forest is defined as the longest path between the root node and the leaf node\n",
    "from sklearn.ensemble import RandomForestClassifier\n",
    "from sklearn.model_selection import cross_val_score\n",
    "from sklearn.metrics import accuracy_score,confusion_matrix\n",
    "\n",
    "clf1 = RandomForestClassifier(n_estimators=150, max_depth=None,min_samples_split=2, random_state=1)\n",
    "clf1.fit(x_train,y_train)\n",
    "y_pred = clf1.predict(x_test)\n",
    "print(\"Accuracy:\",accuracy_score(y_pred,y_test))\n",
    "print(\"Cross validation:\",cross_val_score(clf1,x_train,y_train,cv=5))"
   ]
  },
  {
   "cell_type": "code",
   "execution_count": 16,
   "metadata": {},
   "outputs": [],
   "source": [
    "#save tha model using pickle library\n",
    "import pickle\n",
    "pickle.dump(clf,open('img_model_rf.p','wb'))\n",
    "model = pickle.load(open('img_model_rf.p','rb'))"
   ]
  },
  {
   "cell_type": "code",
   "execution_count": 19,
   "metadata": {},
   "outputs": [
    {
     "name": "stdout",
     "output_type": "stream",
     "text": [
      "enter the url:https://upload.wikimedia.org/wikipedia/commons/c/c7/Tabby_cat_with_blue_eyes-3336579.jpg\n",
      "predicted output:cats\n"
     ]
    }
   ],
   "source": [
    "#testing for a new image\n",
    "flat_data = []\n",
    "url = input(\"enter the url:\")\n",
    "img = imread(url)\n",
    "img_resize = resize(img,(150,150,3))\n",
    "flat_data.append(img_resize.flatten())\n",
    "flat_data = np.array(flat_data)\n",
    "\n",
    "y_out = model.predict(flat_data)\n",
    "y_out = categories[y_out[0]]\n",
    "print(f\"predicted output:{y_out}\")"
   ]
  },
  {
   "cell_type": "markdown",
   "metadata": {},
   "source": [
    "## Decision tree classifier"
   ]
  },
  {
   "cell_type": "code",
   "execution_count": 23,
   "metadata": {},
   "outputs": [
    {
     "name": "stdout",
     "output_type": "stream",
     "text": [
      "Accuracy: 0.5077777777777778\n",
      "Cross validation: [0.48809524 0.52142857 0.50714286 0.51904762 0.48095238]\n"
     ]
    }
   ],
   "source": [
    "from sklearn.tree import DecisionTreeClassifier\n",
    "from sklearn import tree\n",
    "from sklearn.model_selection import cross_val_score\n",
    "from sklearn.metrics import accuracy_score,confusion_matrix\n",
    "\n",
    "decision_tree = DecisionTreeClassifier(random_state=1, max_depth=None)\n",
    "clf2 = decision_tree.fit(x_train,y_train)\n",
    "y_pred = clf2.predict(x_test)\n",
    "print(\"Accuracy:\",accuracy_score(y_pred,y_test))\n",
    "print(\"Cross validation:\",cross_val_score(clf2,x_train,y_train,cv=5))"
   ]
  },
  {
   "cell_type": "code",
   "execution_count": 24,
   "metadata": {},
   "outputs": [],
   "source": [
    "#save tha model using pickle library\n",
    "import pickle\n",
    "pickle.dump(clf,open('img_model_DTC.p','wb'))\n",
    "model = pickle.load(open('img_model_DTC.p','rb'))"
   ]
  },
  {
   "cell_type": "code",
   "execution_count": 25,
   "metadata": {},
   "outputs": [
    {
     "name": "stdout",
     "output_type": "stream",
     "text": [
      "enter the url:https://upload.wikimedia.org/wikipedia/commons/c/c7/Tabby_cat_with_blue_eyes-3336579.jpg\n",
      "predicted output:cats\n"
     ]
    }
   ],
   "source": [
    "#testing for a new image\n",
    "flat_data = []\n",
    "url = input(\"enter the url:\")\n",
    "img = imread(url)\n",
    "img_resize = resize(img,(150,150,3))\n",
    "flat_data.append(img_resize.flatten())\n",
    "flat_data = np.array(flat_data)\n",
    "\n",
    "y_out = model.predict(flat_data)\n",
    "y_out = categories[y_out[0]]\n",
    "print(f\"predicted output:{y_out}\")\n"
   ]
  },
  {
   "cell_type": "code",
   "execution_count": null,
   "metadata": {},
   "outputs": [],
   "source": []
  }
 ],
 "metadata": {
  "kernelspec": {
   "display_name": "Python 3",
   "language": "python",
   "name": "python3"
  },
  "language_info": {
   "codemirror_mode": {
    "name": "ipython",
    "version": 3
   },
   "file_extension": ".py",
   "mimetype": "text/x-python",
   "name": "python",
   "nbconvert_exporter": "python",
   "pygments_lexer": "ipython3",
   "version": "3.8.5"
  }
 },
 "nbformat": 4,
 "nbformat_minor": 2
}
